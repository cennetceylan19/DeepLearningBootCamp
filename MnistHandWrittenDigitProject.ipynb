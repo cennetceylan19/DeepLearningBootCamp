{
  "nbformat": 4,
  "nbformat_minor": 0,
  "metadata": {
    "colab": {
      "provenance": [],
      "collapsed_sections": [],
      "authorship_tag": "ABX9TyPTUlP0J51KBP8vg9XHOGgg",
      "include_colab_link": true
    },
    "kernelspec": {
      "name": "python3",
      "display_name": "Python 3"
    },
    "language_info": {
      "name": "python"
    }
  },
  "cells": [
    {
      "cell_type": "markdown",
      "metadata": {
        "id": "view-in-github",
        "colab_type": "text"
      },
      "source": [
        "<a href=\"https://colab.research.google.com/github/cennetceylan19/DeepLearningBootCamp/blob/main/MnistHandWrittenDigitProject.ipynb\" target=\"_parent\"><img src=\"https://colab.research.google.com/assets/colab-badge.svg\" alt=\"Open In Colab\"/></a>"
      ]
    },
    {
      "cell_type": "markdown",
      "source": [
        "##Mnist Hand Written Digit Project \n",
        "In this exercise we aim to classify the handwritten digits from their 28 by 28 pixels images. We will use the “Mnist Handwritten Digit” dataset, one of the standard datasets used in computer vision. Computer vision is a field that trains computers to enable them to perceive useful information from visual inputs like images, videos, and so on. And neural networks are one of the best methods to do this. The Mnist dataset contains 70000 samples from 28 by 28 images of handwritten digits from zero to nine. For each pixel there is a grayscale value ranging from white to black. And there are 784 pixels for each image."
      ],
      "metadata": {
        "id": "EIRqMuZ0tAX8"
      }
    },
    {
      "cell_type": "code",
      "source": [
        "from sklearn.datasets import fetch_openml\n",
        "from sklearn.model_selection import train_test_split\n",
        "\n",
        "X, y = fetch_openml('mnist_784', version=1, return_X_y=True, as_frame=False)\n",
        "X = X/255.0\n",
        "\n",
        "x_train, x_test, y_train, y_test = train_test_split(X,y,random_state=0, test_size=0.7)"
      ],
      "metadata": {
        "id": "gPJJjlACtSTp"
      },
      "execution_count": 27,
      "outputs": []
    },
    {
      "cell_type": "code",
      "source": [
        "import pandas as pd \n",
        "\n",
        "data = pd.DataFrame(X)\n",
        "data.insert(784, 'label', y)\n",
        "data.head()\n"
      ],
      "metadata": {
        "id": "r99SJJjOvXUV"
      },
      "execution_count": null,
      "outputs": []
    },
    {
      "cell_type": "code",
      "source": [
        "import matplotlib.pyplot as plt \n",
        "for i in range(5):\n",
        "  plt.imshow(X[i].reshape((28,28)),cmap ='gray')\n",
        "  plt.show()\n",
        "  "
      ],
      "metadata": {
        "id": "ehYancejwVVt"
      },
      "execution_count": null,
      "outputs": []
    },
    {
      "cell_type": "code",
      "source": [
        "from sklearn.neural_network import MLPClassifier\n",
        "mlp = MLPClassifier(hidden_layer_sizes =1, activation = 'logistic')\n",
        "mlp1 = MLPClassifier(hidden_layer_sizes =100, activation = 'logistic')\n",
        "mlp2= MLPClassifier(hidden_layer_sizes =1000, activation = 'logistic')"
      ],
      "metadata": {
        "id": "sOVxntAuw0W7"
      },
      "execution_count": 8,
      "outputs": []
    },
    {
      "cell_type": "code",
      "source": [
        "mlp.fit(x_train, y_train)\n",
        "mlp1.fit(x_train, y_train)\n",
        "mlp2.fit(x_train, y_train)"
      ],
      "metadata": {
        "id": "1NC8CGq4xu35"
      },
      "execution_count": null,
      "outputs": []
    },
    {
      "cell_type": "code",
      "source": [
        "predictions_NN = mlp.predict(x_test)\n",
        "predictions_NN"
      ],
      "metadata": {
        "id": "bY4KMxm0z_5p"
      },
      "execution_count": null,
      "outputs": []
    },
    {
      "cell_type": "code",
      "source": [
        "predictions_NN1 = mlp1.predict(x_test)\n",
        "predictions_NN1"
      ],
      "metadata": {
        "id": "33gIhU1_0wlh"
      },
      "execution_count": null,
      "outputs": []
    },
    {
      "cell_type": "code",
      "source": [
        "predictions_NN2 = mlp2.predict(x_test)\n",
        "predictions_NN2"
      ],
      "metadata": {
        "id": "MjZqOOdO10oA"
      },
      "execution_count": null,
      "outputs": []
    },
    {
      "cell_type": "code",
      "source": [
        "print(f\"Actual Value:{y_test[9]}\")\n",
        "print(f\"Predicted Value for 1 Hidden Layer:{predictions_NN[9]}\")\n",
        "print(f\"Predicted Value for 100 Hidden Layer:{predictions_NN1[9]}\")\n",
        "print(f\"Predicted Value for 1000 Hidden Layer:{predictions_NN2[9]}\")\n",
        "\n",
        "plt.imshow(x_test[9].reshape((28,28)), cmap = 'gray')\n",
        "plt.show()"
      ],
      "metadata": {
        "id": "tvsz67sa2VW1"
      },
      "execution_count": null,
      "outputs": []
    },
    {
      "cell_type": "code",
      "source": [
        "from sklearn.metrics import confusion_matrix\n",
        "   \n",
        "confusion_matrix(y_test, predictions_NN)"
      ],
      "metadata": {
        "id": "ugVSF5Ya3rYp"
      },
      "execution_count": null,
      "outputs": []
    },
    {
      "cell_type": "code",
      "source": [
        "from sklearn.metrics import confusion_matrix\n",
        "   \n",
        "confusion_matrix(y_test, predictions_NN1)"
      ],
      "metadata": {
        "id": "3af3a1cI4BnD"
      },
      "execution_count": null,
      "outputs": []
    },
    {
      "cell_type": "code",
      "source": [
        "from sklearn.metrics import confusion_matrix\n",
        "   \n",
        "confusion_matrix(y_test, predictions_NN2+)"
      ],
      "metadata": {
        "id": "Zq6HsrI74Hbg"
      },
      "execution_count": null,
      "outputs": []
    },
    {
      "cell_type": "code",
      "source": [
        "from sklearn.metrics import classification_report\n",
        "   \n",
        "print(classification_report(y_test, predictions_NN))"
      ],
      "metadata": {
        "id": "fq0CCQge4P-O"
      },
      "execution_count": null,
      "outputs": []
    },
    {
      "cell_type": "code",
      "source": [
        "from sklearn.metrics import classification_report\n",
        "   \n",
        "print(classification_report(y_test, predictions_NN1))"
      ],
      "metadata": {
        "id": "SbaAhQmk4sT-"
      },
      "execution_count": null,
      "outputs": []
    },
    {
      "cell_type": "code",
      "source": [
        "from sklearn.metrics import classification_report\n",
        "   \n",
        "print(classification_report(y_test, predictions_NN2))"
      ],
      "metadata": {
        "id": "VuOQ3pay4xGP"
      },
      "execution_count": null,
      "outputs": []
    }
  ]
}